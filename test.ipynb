{
 "cells": [
  {
   "cell_type": "code",
   "execution_count": 1,
   "metadata": {
    "collapsed": true
   },
   "outputs": [],
   "source": [
    "import numpy as np\n",
    "\n",
    "def upper_bound(x, l):\n",
    "    return np.exp(l * x + l * np.log(l) + (1 - l) * np.log(1 - l))\n",
    "\n",
    "def lower_bound(x, ksi):\n",
    "    l = 0.5 * (sigma(ksi) - 0.5) / ksi\n",
    "    return sigma(ksi) * np.exp((x - ksi) / 2 - l * (x * x - ksi * ksi))\n",
    "\n",
    "def f(x):\n",
    "    return (sigma(x) - 0.5) / x / 2.\n",
    "\n",
    "def sigma(x):\n",
    "    return 1. / (1. + np.exp(-x))"
   ]
  },
  {
   "cell_type": "code",
   "execution_count": 2,
   "metadata": {
    "collapsed": false
   },
   "outputs": [
    {
     "data": {
      "text/plain": [
       "[<matplotlib.lines.Line2D at 0x7fd804f27110>]"
      ]
     },
     "execution_count": 2,
     "metadata": {},
     "output_type": "execute_result"
    },
    {
     "data": {
      "image/png": "[encoded data removed]",
      "text/plain": [
       "<matplotlib.figure.Figure at 0x7fd82f3e3490>"
      ]
     },
     "metadata": {},
     "output_type": "display_data"
    }
   ],
   "source": [
    "%matplotlib inline\n",
    "import matplotlib.pyplot as plt\n",
    "\n",
    "x = np.linspace(-20, 2, 100)\n",
    "plt.plot(x, sigma(x))\n",
    "plt.plot(x, upper_bound(x, 0.7))\n",
    "plt.plot(x, lower_bound(x, 0.5))"
   ]
  },
  {
   "cell_type": "code",
   "execution_count": 3,
   "metadata": {
    "collapsed": false
   },
   "outputs": [
    {
     "data": {
      "image/png": "[encoded data removed]",
      "text/plain": [
       "<matplotlib.figure.Figure at 0x7fd820e7ac90>"
      ]
     },
     "metadata": {},
     "output_type": "display_data"
    }
   ],
   "source": [
    "%matplotlib inline\n",
    "import matplotlib.pyplot as plt\n",
    "\n",
    "n1 = 100\n",
    "n2 = 210\n",
    "x1, y1 = np.random.multivariate_normal([0, 0], [[0.5, 0], [0, 0.5]], n1).T\n",
    "x2, y2 = np.random.multivariate_normal([-2, 0], [[1, 0], [0, 0.5]], n1).T\n",
    "x1 = np.hstack((x1, x2))\n",
    "y1 = np.hstack((y1, y2))\n",
    "plt.plot(x1, y1, 'o')\n",
    "x3, y3 = np.random.multivariate_normal([-3, 4], [[0.2, 0], [0, 5]], n2).T\n",
    "plt.plot(x3, y3, 'o')\n",
    "\n",
    "class1 = np.concatenate([x1.reshape(-1, 1), y1.reshape(-1, 1)], axis=1)\n",
    "class2 = np.concatenate([x3.reshape(-1, 1), y3.reshape(-1, 1)], axis=1)\n",
    "y = np.ones(2 * n1 + n2)\n",
    "y[:2 * n1] *= -1\n",
    "X = np.concatenate((class1, class2))"
   ]
  },
  {
   "cell_type": "code",
   "execution_count": 4,
   "metadata": {
    "collapsed": false,
    "scrolled": true
   },
   "outputs": [],
   "source": [
    "from rvm import RVM\n",
    "# Automatically reload imports.\n",
    "%load_ext autoreload\n",
    "%autoreload 2"
   ]
  },
  {
   "cell_type": "code",
   "execution_count": 5,
   "metadata": {
    "collapsed": false
   },
   "outputs": [
    {
     "name": "stdout",
     "output_type": "stream",
     "text": [
      "-47.7372158315\n",
      "-40.0372121886\n"
     ]
    }
   ],
   "source": [
    "est = RVM(n_iter=2500, threshold_alpha=1e9)\n",
    "l = est.fit(X, y)"
   ]
  },
  {
   "cell_type": "code",
   "execution_count": 6,
   "metadata": {
    "collapsed": false,
    "scrolled": true
   },
   "outputs": [
    {
     "name": "stdout",
     "output_type": "stream",
     "text": [
      "2\n",
      "[ 0.0127101   0.07854636]\n"
     ]
    }
   ],
   "source": [
    "print est.alpha_.shape[0]\n",
    "\n",
    "print est.alpha_"
   ]
  },
  {
   "cell_type": "code",
   "execution_count": 7,
   "metadata": {
    "collapsed": false
   },
   "outputs": [
    {
     "name": "stdout",
     "output_type": "stream",
     "text": [
      "[-8.86575577  3.56703086] [-8.69482707  3.49894022]\n"
     ]
    }
   ],
   "source": [
    "print est.mu_, est.w_"
   ]
  },
  {
   "cell_type": "code",
   "execution_count": 8,
   "metadata": {
    "collapsed": false
   },
   "outputs": [
    {
     "name": "stdout",
     "output_type": "stream",
     "text": [
      "-44.9490075542 -44.6366543247 -44.6366543247\n"
     ]
    }
   ],
   "source": [
    "print est.lb(est.w_), est.f(est.w_), est.ub(est.w_)"
   ]
  },
  {
   "cell_type": "code",
   "execution_count": 9,
   "metadata": {
    "collapsed": false
   },
   "outputs": [
    {
     "name": "stdout",
     "output_type": "stream",
     "text": [
      "True True\n"
     ]
    }
   ],
   "source": [
    "print est.lb(est.w_) <= est.f(est.w_), est.f(est.w_) <= est.ub(est.w_)"
   ]
  },
  {
   "cell_type": "code",
   "execution_count": 10,
   "metadata": {
    "collapsed": true
   },
   "outputs": [],
   "source": [
    "def lower_bound(est, n = 0, delta_w = 4, n_points = 100):\n",
    "    w = est.w_.copy()\n",
    "    w_domain = np.linspace(w[n] - delta_w, w[n] + delta_w, n_points)\n",
    "    ret = np.zeros(n_points)\n",
    "    for i in xrange(n_points):\n",
    "        w[n] = w_domain[i]\n",
    "        ret[i] = est.lb(w)\n",
    "    return w_domain, ret"
   ]
  },
  {
   "cell_type": "code",
   "execution_count": 11,
   "metadata": {
    "collapsed": true
   },
   "outputs": [],
   "source": [
    "def upper_bound(est, n = 0, delta_w = 4, n_points = 100):\n",
    "    w = est.w_.copy()\n",
    "    w_domain = np.linspace(w[n] - delta_w, w[n] + delta_w, n_points)\n",
    "    ret = np.zeros(n_points)\n",
    "    for i in xrange(n_points):\n",
    "        w[n] = w_domain[i]\n",
    "        ret[i] = est.ub(w)\n",
    "    return w_domain, ret"
   ]
  },
  {
   "cell_type": "code",
   "execution_count": 12,
   "metadata": {
    "collapsed": true
   },
   "outputs": [],
   "source": [
    "def f(est, n = 0, delta_w = 4, n_points = 100):\n",
    "    w = est.w_.copy()\n",
    "    w_domain = np.linspace(w[n] - delta_w, w[n] + delta_w, n_points)\n",
    "    ret = np.zeros(n_points)\n",
    "    for i in xrange(n_points):\n",
    "        w[n] = w_domain[i]\n",
    "        ret[i] = est.f(w)\n",
    "    return w_domain, ret"
   ]
  },
  {
   "cell_type": "code",
   "execution_count": 15,
   "metadata": {
    "collapsed": false
   },
   "outputs": [
    {
     "data": {
      "text/plain": [
       "<matplotlib.legend.Legend at 0x7fd7f689d750>"
      ]
     },
     "execution_count": 15,
     "metadata": {},
     "output_type": "execute_result"
    },
    {
     "data": {
      "image/png": "[encoded data removed]",
      "text/plain": [
       "<matplotlib.figure.Figure at 0x7fd7f771a3d0>"
      ]
     },
     "metadata": {},
     "output_type": "display_data"
    }
   ],
   "source": [
    "n = 0\n",
    "delta_w = 0.7\n",
    "plt.plot(upper_bound(est, n=n, delta_w=delta_w)[0], upper_bound(est, n=n, delta_w=delta_w)[1], label='upper bound')\n",
    "plt.plot(f(est, n=n, delta_w=delta_w)[0], f(est, n=n, delta_w=delta_w)[1], label='$p(t|w)p(w|a)$')\n",
    "plt.plot(lower_bound(est, n=n, delta_w=delta_w)[0], lower_bound(est, n=n, delta_w=delta_w)[1], label='lower bound')\n",
    "plt.xlabel('$w_%d$' % n)\n",
    "plt.legend(loc='best')"
   ]
  },
  {
   "cell_type": "code",
   "execution_count": null,
   "metadata": {
    "collapsed": true
   },
   "outputs": [],
   "source": []
  }
 ],
 "metadata": {
  "kernelspec": {
   "display_name": "Python 2",
   "language": "python",
   "name": "python2"
  },
  "language_info": {
   "codemirror_mode": {
    "name": "ipython",
    "version": 2
   },
   "file_extension": ".py",
   "mimetype": "text/x-python",
   "name": "python",
   "nbconvert_exporter": "python",
   "pygments_lexer": "ipython2",
   "version": "2.7.11"
  }
 },
 "nbformat": 4,
 "nbformat_minor": 0
}
