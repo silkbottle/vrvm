{
 "cells": [
  {
   "cell_type": "code",
   "execution_count": 1,
   "metadata": {
    "collapsed": true
   },
   "outputs": [],
   "source": [
    "import numpy as np\n",
    "\n",
    "def upper_bound(x, l):\n",
    "    return np.exp(l * x + l * np.log(l) + (1 - l) * np.log(1 - l))\n",
    "\n",
    "def lower_bound(x, ksi):\n",
    "    l = 0.5 * (sigma(ksi) - 0.5) / ksi\n",
    "    return sigma(ksi) * np.exp((x - ksi) / 2 - l * (x * x - ksi * ksi))\n",
    "\n",
    "def sigma(x):\n",
    "    return 1. / (1 + np.exp(-x))"
   ]
  },
  {
   "cell_type": "code",
   "execution_count": 2,
   "metadata": {
    "collapsed": false
   },
   "outputs": [
    {
     "data": {
      "text/plain": [
       "[<matplotlib.lines.Line2D at 0x7f10d62ed510>]"
      ]
     },
     "execution_count": 2,
     "metadata": {},
     "output_type": "execute_result"
    },
    {
     "data": {
      "image/png": "[encoded data removed]",
      "text/plain": [
       "<matplotlib.figure.Figure at 0x7f10f88d35d0>"
      ]
     },
     "metadata": {},
     "output_type": "display_data"
    }
   ],
   "source": [
    "%matplotlib inline\n",
    "import matplotlib.pyplot as plt\n",
    "\n",
    "x = np.linspace(-20, 2, 100)\n",
    "plt.plot(x, sigma(x))\n",
    "plt.plot(x, upper_bound(x, 0.7))\n",
    "plt.plot(x, lower_bound(x, 0.5))"
   ]
  },
  {
   "cell_type": "code",
   "execution_count": 3,
   "metadata": {
    "collapsed": false
   },
   "outputs": [
    {
     "data": {
      "image/png": "[encoded data removed]",
      "text/plain": [
       "<matplotlib.figure.Figure at 0x7f10d629d210>"
      ]
     },
     "metadata": {},
     "output_type": "display_data"
    }
   ],
   "source": [
    "%matplotlib inline\n",
    "import matplotlib.pyplot as plt\n",
    "\n",
    "n1 = 150\n",
    "n2 = 150\n",
    "x1, y1 = np.random.multivariate_normal([0, 0], [[0.5, 0], [0, 0.5]], n1).T\n",
    "plt.plot(x1, y1, 'o')\n",
    "x2, y2 = np.random.multivariate_normal([-4, 4], [[0.5, 0], [0, 0.5]], n2).T\n",
    "plt.plot(x2, y2, 'o')\n",
    "\n",
    "class1 = np.concatenate([x1.reshape(-1, 1), y1.reshape(-1, 1)], axis=1)\n",
    "class2 = np.concatenate([x2.reshape(-1, 1), y2.reshape(-1, 1)], axis=1)\n",
    "y = np.ones(n1 + n2)\n",
    "y[:n1] *= -1\n",
    "X = np.concatenate((class1, class2))"
   ]
  },
  {
   "cell_type": "code",
   "execution_count": 4,
   "metadata": {
    "collapsed": false,
    "scrolled": true
   },
   "outputs": [],
   "source": [
    "from rvm import RVM\n",
    "# Automatically reload imports.\n",
    "%load_ext autoreload\n",
    "%autoreload 2"
   ]
  },
  {
   "cell_type": "code",
   "execution_count": 5,
   "metadata": {
    "collapsed": false
   },
   "outputs": [
    {
     "name": "stdout",
     "output_type": "stream",
     "text": [
      "-273.454304459\n",
      "-314.017437128\n",
      "-484.316998114\n",
      "-805.532768447\n",
      "-1401.79527574\n",
      "-2471.17573108\n",
      "-4376.54302232\n",
      "-7783.75515304\n",
      "-13920.738479\n",
      "-24900.9891105\n",
      "-44607.7227958\n",
      "-79966.7954497\n",
      "-143304.621719\n",
      "-256661.77128\n",
      "-459265.966748\n",
      "-820389.117429\n",
      "-1461218.36655\n",
      "-2588915.21313\n",
      "-4543518.88509\n",
      "-7845193.80553\n",
      "-13186618.6905\n",
      "-21252128.5094\n",
      "-32245900.5205\n",
      "-45311363.5662\n",
      "-58530610.5946\n",
      "-69897281.2042\n",
      "-78382055.5925\n",
      "-84070550.1715\n",
      "-87614862.0666\n",
      "-89723329.4086\n",
      "-90943254.1646\n",
      "-91637759.4972\n",
      "-92029506.4679\n",
      "-92249326.7949\n",
      "-92372312.8962\n",
      "-92441008.8195\n",
      "-92479344.8686\n",
      "-92500727.5066\n",
      "-92512650.6598\n",
      "-92519298.0591\n",
      "-92523003.7895\n",
      "-92525069.5234\n",
      "-92526221.0207\n",
      "-92526862.8874\n",
      "-92527220.6731\n",
      "-92527420.107\n",
      "-92527531.2735\n",
      "-92527593.2388\n",
      "-92527627.7788\n",
      "-92527647.0317\n",
      "-92527657.7634\n",
      "-92527663.7453\n",
      "-92527667.0797\n",
      "-92527668.9383\n",
      "-92527669.9744\n",
      "-92527670.5518\n",
      "-92527670.8737\n",
      "-92527671.0531\n",
      "-92527671.1532\n",
      "-92527671.2089\n",
      "-92527671.24\n",
      "-92527671.2573\n",
      "-92527671.267\n",
      "-92527671.2723\n",
      "-92527671.2753\n",
      "-92527671.277\n",
      "-92527671.2779\n",
      "-92527671.2785\n",
      "-92527671.2788\n",
      "-92527671.2789\n",
      "-92527671.279\n",
      "-92527671.2791\n",
      "-92527671.2791\n",
      "-92527671.2791\n",
      "-92527671.2791\n",
      "-92527671.2791\n",
      "-92527671.2791\n",
      "-92527671.2791\n",
      "-92527671.2791\n",
      "-92527671.2791\n",
      "-92527671.2791\n",
      "-92527671.2791\n",
      "-92527671.2791\n",
      "-92527671.2791\n",
      "-92527671.2791\n",
      "-92527671.2791\n",
      "-92527671.2791\n",
      "-92527671.2791\n",
      "-92527671.2791\n",
      "-92527671.2791\n",
      "-92527671.2791\n",
      "-92527671.2791\n",
      "-92527671.2791\n",
      "-92527671.2791\n",
      "-92527671.2791\n",
      "-92527671.2791\n",
      "-92527671.2791\n",
      "-92527671.2791\n",
      "-92527671.2791\n",
      "-92527671.2791\n"
     ]
    }
   ],
   "source": [
    "est = RVM()\n",
    "l = est.fit(X, y)"
   ]
  },
  {
   "cell_type": "code",
   "execution_count": 29,
   "metadata": {
    "collapsed": false
   },
   "outputs": [
    {
     "name": "stdout",
     "output_type": "stream",
     "text": [
      "-114.477835562\n"
     ]
    }
   ],
   "source": [
    "print bound(l)"
   ]
  },
  {
   "cell_type": "code",
   "execution_count": null,
   "metadata": {
    "collapsed": false
   },
   "outputs": [],
   "source": [
    "l = np.concatenate((np.logspace(-10, -1), np.linspace(0.1, 0.9, 100), 1. - np.logspace(-8, -1)[::-1]))"
   ]
  },
  {
   "cell_type": "code",
   "execution_count": null,
   "metadata": {
    "collapsed": true
   },
   "outputs": [],
   "source": [
    "def f(x, A):\n",
    "    return (1 - x) * np.log(1 - x) + x * np.log(x) + A * x * x"
   ]
  },
  {
   "cell_type": "code",
   "execution_count": null,
   "metadata": {
    "collapsed": false
   },
   "outputs": [],
   "source": [
    "A = 10\n",
    "plt.plot(l, f(l, A))"
   ]
  },
  {
   "cell_type": "code",
   "execution_count": null,
   "metadata": {
    "collapsed": false
   },
   "outputs": [],
   "source": [
    "f(2. / A, A)"
   ]
  },
  {
   "cell_type": "code",
   "execution_count": null,
   "metadata": {
    "collapsed": false
   },
   "outputs": [],
   "source": [
    "np.min(f(l, A))"
   ]
  },
  {
   "cell_type": "code",
   "execution_count": null,
   "metadata": {
    "collapsed": true
   },
   "outputs": [],
   "source": [
    "# X = np.array([[200., 3.], [1., 1.], [-1., 4], [3., 5.]])\n",
    "# y = np.array([1, 1, -1, -1])\n",
    "X = np.array([[200., 3.], [1., 1.]])\n",
    "y = np.array([1, 1])"
   ]
  },
  {
   "cell_type": "code",
   "execution_count": 24,
   "metadata": {
    "collapsed": true
   },
   "outputs": [],
   "source": [
    "Y = X.copy()\n",
    "for i in xrange(X.shape[0]):\n",
    "    Y[i] *= y[i]\n",
    "def bound(l):\n",
    "    w = (l * y).dot(X)\n",
    "    return ((1 - l) * np.log(1 - l) + l * np.log(l)).sum() + 0.5 * w.dot(w)\n",
    "\n",
    "def gradient(l):\n",
    "    return np.log(l) - np.log(1 - l) + Y.dot((l * y).dot(X))\n",
    "\n",
    "def hessian(l):\n",
    "    return np.diag(1./ l / (1 - l)) + Y.dot(Y.T)\n",
    "\n",
    "def step(l):\n",
    "    f = -Y.dot((l * y).dot(X))\n",
    "    print f, sigma(f)\n",
    "    return sigma(f)"
   ]
  },
  {
   "cell_type": "code",
   "execution_count": null,
   "metadata": {
    "collapsed": false
   },
   "outputs": [],
   "source": [
    "l = 0.25 * np.ones(X.shape[0])"
   ]
  },
  {
   "cell_type": "code",
   "execution_count": null,
   "metadata": {
    "collapsed": false
   },
   "outputs": [],
   "source": [
    "print bound(l)"
   ]
  },
  {
   "cell_type": "code",
   "execution_count": null,
   "metadata": {
    "collapsed": false
   },
   "outputs": [],
   "source": [
    "print gradient(l)"
   ]
  },
  {
   "cell_type": "code",
   "execution_count": null,
   "metadata": {
    "collapsed": false
   },
   "outputs": [],
   "source": [
    "print step(step(l))"
   ]
  },
  {
   "cell_type": "code",
   "execution_count": 22,
   "metadata": {
    "collapsed": false
   },
   "outputs": [
    {
     "ename": "NameError",
     "evalue": "name 'step' is not defined",
     "output_type": "error",
     "traceback": [
      "\u001b[1;31m---------------------------------------------------------------------------\u001b[0m",
      "\u001b[1;31mNameError\u001b[0m                                 Traceback (most recent call last)",
      "\u001b[1;32m<ipython-input-22-b7c4e6b407ae>\u001b[0m in \u001b[0;36m<module>\u001b[1;34m()\u001b[0m\n\u001b[0;32m      1\u001b[0m \u001b[1;32mfor\u001b[0m \u001b[0mi\u001b[0m \u001b[1;32min\u001b[0m \u001b[0mrange\u001b[0m\u001b[1;33m(\u001b[0m\u001b[1;36m5\u001b[0m\u001b[1;33m)\u001b[0m\u001b[1;33m:\u001b[0m\u001b[1;33m\u001b[0m\u001b[0m\n\u001b[1;32m----> 2\u001b[1;33m     \u001b[0ml\u001b[0m \u001b[1;33m=\u001b[0m \u001b[0mstep\u001b[0m\u001b[1;33m(\u001b[0m\u001b[0ml\u001b[0m\u001b[1;33m)\u001b[0m\u001b[1;33m\u001b[0m\u001b[0m\n\u001b[0m\u001b[0;32m      3\u001b[0m \u001b[1;33m\u001b[0m\u001b[0m\n\u001b[0;32m      4\u001b[0m \u001b[1;32mprint\u001b[0m \u001b[0ml\u001b[0m\u001b[1;33m,\u001b[0m \u001b[0mbound\u001b[0m\u001b[1;33m(\u001b[0m\u001b[0ml\u001b[0m\u001b[1;33m)\u001b[0m\u001b[1;33m\u001b[0m\u001b[0m\n\u001b[0;32m      5\u001b[0m \u001b[1;32mprint\u001b[0m \u001b[0mgradient\u001b[0m\u001b[1;33m(\u001b[0m\u001b[0ml\u001b[0m\u001b[1;33m)\u001b[0m\u001b[1;33m\u001b[0m\u001b[0m\n",
      "\u001b[1;31mNameError\u001b[0m: name 'step' is not defined"
     ]
    }
   ],
   "source": [
    "for i in range(5):\n",
    "    l = step(l)\n",
    "\n",
    "print l, bound(l)\n",
    "print gradient(l)"
   ]
  },
  {
   "cell_type": "code",
   "execution_count": null,
   "metadata": {
    "collapsed": false
   },
   "outputs": [],
   "source": [
    "import scipy.optimize as scopt\n",
    "\n",
    "scopt.minimize(bound, 0.5 * np.ones(X.shape[0]), method='TNC', jac=gradient, hess=hessian, bounds=[(0.00001, 1)] * X.shape[0])"
   ]
  },
  {
   "cell_type": "code",
   "execution_count": null,
   "metadata": {
    "collapsed": false
   },
   "outputs": [],
   "source": [
    "lmb = 0.5\n",
    "for i in xrange(100):\n",
    "    lmb = 1. / (1 + np.exp(6 * lmb))\n",
    "    print lmb"
   ]
  },
  {
   "cell_type": "code",
   "execution_count": null,
   "metadata": {
    "collapsed": true
   },
   "outputs": [],
   "source": []
  }
 ],
 "metadata": {
  "kernelspec": {
   "display_name": "Python 2",
   "language": "python",
   "name": "python2"
  },
  "language_info": {
   "codemirror_mode": {
    "name": "ipython",
    "version": 2
   },
   "file_extension": ".py",
   "mimetype": "text/x-python",
   "name": "python",
   "nbconvert_exporter": "python",
   "pygments_lexer": "ipython2",
   "version": "2.7.11"
  }
 },
 "nbformat": 4,
 "nbformat_minor": 0
}
