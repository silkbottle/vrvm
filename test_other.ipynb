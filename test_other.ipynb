{
 "cells": [
  {
   "cell_type": "code",
   "execution_count": 66,
   "metadata": {
    "collapsed": false
   },
   "outputs": [
    {
     "data": {
      "image/png": "[encoded data removed]",
      "text/plain": [
       "<matplotlib.figure.Figure at 0x7fbcfc705490>"
      ]
     },
     "metadata": {},
     "output_type": "display_data"
    }
   ],
   "source": [
    "import numpy as np\n",
    "%matplotlib inline\n",
    "import matplotlib.pyplot as plt\n",
    "\n",
    "N = 40\n",
    "sigma = 0.8\n",
    "Sigma = sigma * np.eye(2)\n",
    "x1, y1 = np.random.multivariate_normal([0, 0], Sigma, N).T\n",
    "x2, y2 = np.random.multivariate_normal([3, 3], Sigma, N).T\n",
    "x1 = np.hstack((x1, x2))\n",
    "y1 = np.hstack((y1, y2))\n",
    "plt.plot(x1, y1, 'o')\n",
    "x3, y3 = np.random.multivariate_normal([0, 3], Sigma, N).T\n",
    "x4, y4 = np.random.multivariate_normal([3, 0], Sigma, N).T\n",
    "x2 = np.hstack((x3, x4))\n",
    "y2 = np.hstack((y3, y4))\n",
    "plt.plot(x2, y2, 'o')\n",
    "\n",
    "class1 = np.concatenate([x1.reshape(-1, 1), y1.reshape(-1, 1)], axis=1)\n",
    "class2 = np.concatenate([x2.reshape(-1, 1), y2.reshape(-1, 1)], axis=1)\n",
    "y = np.ones(4 * N)\n",
    "y[:2 * N] *= -1\n",
    "X = np.concatenate((class1, class2))"
   ]
  },
  {
   "cell_type": "code",
   "execution_count": 67,
   "metadata": {
    "collapsed": false
   },
   "outputs": [
    {
     "name": "stdout",
     "output_type": "stream",
     "text": [
      "The autoreload extension is already loaded. To reload it, use:\n",
      "  %reload_ext autoreload\n"
     ]
    }
   ],
   "source": [
    "from rvm import RVM\n",
    "# Automatically reload imports.\n",
    "%load_ext autoreload\n",
    "%autoreload 2"
   ]
  },
  {
   "cell_type": "code",
   "execution_count": 68,
   "metadata": {
    "collapsed": false
   },
   "outputs": [
    {
     "name": "stdout",
     "output_type": "stream",
     "text": [
      "-58.45844085\n"
     ]
    }
   ],
   "source": [
    "est = RVM(kernel='rbf', n_iter=6, threshold_alpha=1e9)\n",
    "est.fit(X, y)"
   ]
  },
  {
   "cell_type": "code",
   "execution_count": 69,
   "metadata": {
    "collapsed": false
   },
   "outputs": [
    {
     "name": "stdout",
     "output_type": "stream",
     "text": [
      "[-23549.28715701  -8596.08907195  -5582.79981754 -20587.36595413\n",
      " -54724.80395378 -26653.38479757]\n"
     ]
    }
   ],
   "source": [
    "print est.lower_bound"
   ]
  },
  {
   "cell_type": "code",
   "execution_count": 64,
   "metadata": {
    "collapsed": false
   },
   "outputs": [
    {
     "name": "stdout",
     "output_type": "stream",
     "text": [
      "[-115.04441218  -97.30796953  -90.52261507  -87.5617507   -85.4817778\n",
      "  -84.08724018]\n"
     ]
    }
   ],
   "source": [
    "print est.upper_bound"
   ]
  },
  {
   "cell_type": "code",
   "execution_count": 65,
   "metadata": {
    "collapsed": false
   },
   "outputs": [
    {
     "name": "stdout",
     "output_type": "stream",
     "text": [
      "388 [ -1.36602876e-10  -1.90428093e-02  -8.41684509e-01  -6.77394035e-06\n",
      "  -4.62739916e-02  -7.85654130e-06  -1.58844646e-05  -1.40728710e+00\n",
      "  -2.95202578e-04  -3.63233787e-01  -8.01798733e-02  -2.68717534e-03\n",
      "  -7.91417105e-03  -7.34125422e-03   1.74085879e-10  -3.62031602e-04\n",
      "  -4.54701459e-02  -3.69979309e-01  -8.76083306e-11  -3.86378658e-03\n",
      "  -3.84004518e-02  -1.11372403e-03  -1.89328326e-02  -6.01694840e-06\n",
      "  -3.18440681e-01  -4.40897968e-01  -8.47406394e-04  -3.15106541e-09\n",
      "  -1.28567044e-01   4.86971291e-05  -1.29333878e-02  -7.67578214e-03\n",
      "  -1.69086716e-02  -2.13995345e-03  -7.67592262e-03  -1.17577166e-04\n",
      "  -1.76128294e-03  -2.99199168e-01  -3.38958065e-05   6.05637554e-01\n",
      "  -2.15324053e-05   5.10145435e-11  -2.93357517e-05  -1.61885856e-03\n",
      "  -9.50069566e-03  -5.16604162e-11  -4.74999843e-02  -1.10468370e-01\n",
      "  -1.24487335e+00  -5.22382373e-08  -8.90785529e-03  -7.18238268e-03\n",
      "  -5.21657636e-05  -4.09116124e-02  -4.95006123e-05  -2.98134611e-02\n",
      "  -6.97192130e-03  -2.44857254e-04  -1.96392324e-02   2.03080742e-09\n",
      "  -2.36882242e-03  -1.63628726e+00  -3.41187128e-11  -6.04617759e-02\n",
      "  -6.41432858e-04   9.06040109e-15  -1.06187557e-02  -1.20881760e-02\n",
      "  -3.89467060e-01  -2.14234076e-02  -1.36177377e-05  -1.33517449e-04\n",
      "  -8.32695236e-01  -2.01741774e-04  -2.63473142e-01  -4.43952383e-01\n",
      "  -2.52970296e-02  -1.18794563e-02  -1.54189621e-02  -4.58962994e-05\n",
      "  -2.95877703e-11  -3.70990314e-02   8.75126858e-04  -9.40757397e-03\n",
      "  -2.17792264e-05  -4.94551565e-02   4.18612986e-08   1.10450501e-10\n",
      "  -5.08625397e-03  -2.67620649e-07  -7.78692542e-06  -1.96701958e-02\n",
      "  -4.72795667e-01  -5.88875413e-10  -2.24506109e-06  -3.06723802e-03\n",
      "  -1.72729259e-07  -6.18267021e-05  -5.70729741e-01  -6.84377344e-10\n",
      "  -1.53742631e+00  -4.38758650e-03  -3.54703704e-06  -1.20150599e-10\n",
      "  -9.45814612e-02  -1.29606741e-06  -2.04402270e-10  -5.03883325e-11\n",
      "  -9.00689877e-10  -4.79966953e-01  -2.71992943e-03  -2.37836407e-02\n",
      "  -5.65649635e-04  -5.85657847e-03  -1.21516291e-02  -3.45736418e-03\n",
      "  -3.90003245e-01  -1.02425543e-08   8.12854946e-10   4.08897028e-04\n",
      "  -3.20284232e-07  -1.99176617e-01  -7.20081214e-10  -1.23300114e-02\n",
      "  -2.16742690e-03  -7.38893078e-02  -1.01311872e-10  -1.51054683e-02\n",
      "  -2.93421961e-03  -7.19400744e-03  -1.81452191e-01  -6.62061273e-04\n",
      "  -1.44038509e+00  -6.14085969e-06  -1.37162651e-03  -1.20530013e-06\n",
      "  -1.68866119e-01   3.01429240e-05  -9.05044830e-08  -2.14012615e-03\n",
      "  -1.93998477e-08  -6.56907530e-04  -1.62769034e-02  -2.72406356e-11\n",
      "  -1.26413237e-09  -9.73824104e-03  -6.04155969e-03  -2.50521581e-07\n",
      "  -1.23290301e-04  -2.59140298e-02  -1.70356783e-02  -1.65701106e-05\n",
      "  -2.51605885e-06  -2.14497525e-07  -2.96858050e-01  -4.53336121e-06\n",
      "  -1.31997412e-02  -4.45706473e-02  -6.32665894e-11  -4.42106596e-04\n",
      "  -1.93700927e-04  -6.87941989e-02  -4.73033031e-05  -1.80856252e-07\n",
      "  -5.00931980e-08  -6.24401496e-02  -2.42402421e-02  -3.20847796e-08\n",
      "  -3.46540383e-02  -4.16218807e-06  -7.15547056e-09  -7.37054023e-08\n",
      "  -2.38073044e-02  -2.69645617e-02  -6.19723782e-08  -1.76775105e-04\n",
      "  -7.97105219e-01  -2.89817675e-04  -9.07044996e-01  -1.21406846e-06\n",
      "  -1.52566393e-02  -1.21649804e-02   8.38640876e-06  -4.40799950e-08\n",
      "  -5.10829044e-04  -1.06980953e-02  -4.57806786e-08  -1.00013731e-10\n",
      "  -2.07937182e+00   1.83478463e-11  -1.22881764e-02  -1.17978380e-02\n",
      "   1.49508591e-03   1.13850734e-03   1.19952290e-04   1.13880092e-02\n",
      "   7.21822484e-05   2.28624108e-01  -6.50145287e-11   6.21494495e-04\n",
      "   1.82787877e-04   9.72659946e-02   2.48576987e-05   2.61762798e-04\n",
      "   1.17536216e-10   5.93355622e-05   1.26869981e-03   1.49363909e-04\n",
      "   3.77680474e-02   1.46459415e-06   2.02198433e-01   1.04162237e-03\n",
      "   3.92214848e-01   2.09155712e-02   1.30800391e-03   4.99594194e-11\n",
      "   5.47400420e-04   5.90205808e-04   1.66829162e-01   1.11491624e-03\n",
      "   3.96384790e-03   2.05415612e-03   4.30422697e-01   4.02309808e-04\n",
      "   5.64238940e-05   8.98811439e-01   4.05472067e-07   1.30897160e-02\n",
      "   3.46634980e-05   7.35056451e-01   1.53204109e-02   1.90944252e-03\n",
      "   1.38089954e-03   6.04057422e-04   2.53877476e-03   9.38214752e-05\n",
      "   1.29355847e-03  -2.08196722e-09   1.19026043e-04   3.25170070e-02\n",
      "   1.04720905e+00   9.64912513e-04   1.79950317e-04   1.43806943e-03\n",
      "   3.45817645e-03   3.05583525e-03   2.82637759e-01   1.03321493e-01\n",
      "   4.72814063e-04  -9.54706652e-04   2.22790242e-05   4.34097952e-02\n",
      "   3.13594364e-03   3.38992118e-04   1.32927179e-04   8.58034812e-06\n",
      "   2.45849296e-01   7.62823045e-02   2.56572187e-01   1.23579239e-05\n",
      "   3.23027388e-11   9.73260486e-02   1.26619872e-05   2.08568543e-08\n",
      "   4.73300849e-01   2.05536383e-11   3.59044499e-03   2.79424065e-03\n",
      "   2.01321766e-01   6.43946186e-04   2.84718519e-04   1.64573842e-03\n",
      "   1.07978505e-04   1.19941459e+00   5.72452523e-01   1.41701139e-01\n",
      "   1.02061291e-04   2.22921155e-04   8.41799293e-05   1.12568465e-03\n",
      "   3.89313484e-01   1.38997567e-01   8.68876439e-04   3.42187685e-03\n",
      "   1.83119406e-01   9.82339343e-03   2.00851536e-02   9.32423888e-06\n",
      "  -6.49540373e-11   1.49894892e-02   5.18142074e-03   2.12641274e-02\n",
      "   2.33254958e-02   8.72644322e-08   7.55757591e-11   1.46932256e-02\n",
      "  -3.17252606e-07   1.91549250e-02   2.95817822e-01   8.55507544e-03\n",
      "   5.20098644e-05   3.19322893e-01   6.40278312e-02   1.58820352e-02\n",
      "   8.26518349e-11   3.18599669e-03   4.57733410e-02   2.38382148e-04\n",
      "   8.80059353e-02   4.98649124e-01   1.00292993e-04   3.31785983e-04\n",
      "   7.39653975e-03   1.45665839e-02   4.43795350e-06   3.19707651e-04\n",
      "   5.81330947e-02   9.15125856e-03   1.61241122e-02   1.20037508e+00\n",
      "  -3.99508310e-08   1.47381890e-09   7.62022022e-10   8.38764275e-01\n",
      "   2.25328125e-10   7.32588350e-02   4.13666579e-01   1.71348312e+00\n",
      "   5.03191139e-02   5.54474132e-03  -1.72843886e-11   1.94297958e-05\n",
      "   2.74469850e-07   2.46929283e-07   2.06367947e-05   1.64352182e-03\n",
      "   5.82853408e-11  -3.12683335e-11   3.22885299e-01   1.41935641e-01\n",
      "   6.14225098e-06   3.06113322e-03   1.89325741e-01   7.07866125e-11\n",
      "   2.90418482e-03   6.25750825e-02   4.48197328e-02   1.17010141e-02\n",
      "   1.74768892e-04   8.68013696e-03   1.07022194e-07   1.20689635e-10\n",
      "   1.23355391e-04   2.34276061e-06   5.20460028e-01   2.25745610e-03\n",
      "   2.03245691e-03   1.16007193e-01   1.99771319e-02   1.02068217e+00\n",
      "   3.79173260e-06   8.26764625e-02   2.31486181e-03  -3.08311317e-05\n",
      "   1.49756982e-05   4.19691112e-11   3.70824938e-02   9.22276245e-07\n",
      "   5.15259104e-03   1.59261420e-06   8.80555704e-04   1.74833544e-02\n",
      "   1.57305632e-10   7.83238380e-06   3.10285083e-10   4.61086974e-02\n",
      "   1.73571352e-02   1.24974930e-01   1.30413181e-04   6.86508623e-02\n",
      "   2.02962866e-05   5.23677250e-07  -3.59952348e-11   7.63438959e-04\n",
      "   1.55180063e-02   3.46924134e-02   8.63392796e-03   7.85220206e-08]\n"
     ]
    }
   ],
   "source": [
    "print est.mu_.shape[0], est.mu_"
   ]
  },
  {
   "cell_type": "code",
   "execution_count": 58,
   "metadata": {
    "collapsed": true
   },
   "outputs": [],
   "source": [
    "h = 0.01\n",
    "x_min, x_max = X[:, 0].min() - 1, X[:, 0].max() + 1\n",
    "y_min, y_max = X[:, 1].min() - 1, X[:, 1].max() + 1\n",
    "xx, yy = np.meshgrid(np.arange(x_min, x_max, h), np.arange(y_min, y_max, h))\n",
    "def visualize(X, y):\n",
    "    plt.clf()\n",
    "    Z = est.predict(np.c_[xx.ravel(), yy.ravel()]) + 1\n",
    "    Z = Z.reshape(xx.shape)\n",
    "    plt.contourf(xx, yy, Z, cmap=plt.cm.Paired, alpha=0.8)\n",
    "    plt.scatter(X[:, 0], X[:, 1], c=y, cmap=plt.cm.Paired)\n",
    "    plt.xlim(xx.min(), xx.max())\n",
    "    plt.ylim(yy.min(), yy.max())"
   ]
  },
  {
   "cell_type": "code",
   "execution_count": 59,
   "metadata": {
    "collapsed": false
   },
   "outputs": [
    {
     "ename": "MemoryError",
     "evalue": "",
     "output_type": "error",
     "traceback": [
      "\u001b[1;31m---------------------------------------------------------------------------\u001b[0m",
      "\u001b[1;31mMemoryError\u001b[0m                               Traceback (most recent call last)",
      "\u001b[1;32m<ipython-input-59-c58e89e0348b>\u001b[0m in \u001b[0;36m<module>\u001b[1;34m()\u001b[0m\n\u001b[1;32m----> 1\u001b[1;33m \u001b[0mvisualize\u001b[0m\u001b[1;33m(\u001b[0m\u001b[0mX\u001b[0m\u001b[1;33m,\u001b[0m \u001b[0my\u001b[0m\u001b[1;33m)\u001b[0m\u001b[1;33m\u001b[0m\u001b[0m\n\u001b[0m",
      "\u001b[1;32m<ipython-input-58-7de83bf2e8d7>\u001b[0m in \u001b[0;36mvisualize\u001b[1;34m(X, y)\u001b[0m\n\u001b[0;32m      5\u001b[0m \u001b[1;32mdef\u001b[0m \u001b[0mvisualize\u001b[0m\u001b[1;33m(\u001b[0m\u001b[0mX\u001b[0m\u001b[1;33m,\u001b[0m \u001b[0my\u001b[0m\u001b[1;33m)\u001b[0m\u001b[1;33m:\u001b[0m\u001b[1;33m\u001b[0m\u001b[0m\n\u001b[0;32m      6\u001b[0m     \u001b[0mplt\u001b[0m\u001b[1;33m.\u001b[0m\u001b[0mclf\u001b[0m\u001b[1;33m(\u001b[0m\u001b[1;33m)\u001b[0m\u001b[1;33m\u001b[0m\u001b[0m\n\u001b[1;32m----> 7\u001b[1;33m     \u001b[0mZ\u001b[0m \u001b[1;33m=\u001b[0m \u001b[0mest\u001b[0m\u001b[1;33m.\u001b[0m\u001b[0mpredict\u001b[0m\u001b[1;33m(\u001b[0m\u001b[0mnp\u001b[0m\u001b[1;33m.\u001b[0m\u001b[0mc_\u001b[0m\u001b[1;33m[\u001b[0m\u001b[0mxx\u001b[0m\u001b[1;33m.\u001b[0m\u001b[0mravel\u001b[0m\u001b[1;33m(\u001b[0m\u001b[1;33m)\u001b[0m\u001b[1;33m,\u001b[0m \u001b[0myy\u001b[0m\u001b[1;33m.\u001b[0m\u001b[0mravel\u001b[0m\u001b[1;33m(\u001b[0m\u001b[1;33m)\u001b[0m\u001b[1;33m]\u001b[0m\u001b[1;33m)\u001b[0m \u001b[1;33m+\u001b[0m \u001b[1;36m1\u001b[0m\u001b[1;33m\u001b[0m\u001b[0m\n\u001b[0m\u001b[0;32m      8\u001b[0m     \u001b[0mZ\u001b[0m \u001b[1;33m=\u001b[0m \u001b[0mZ\u001b[0m\u001b[1;33m.\u001b[0m\u001b[0mreshape\u001b[0m\u001b[1;33m(\u001b[0m\u001b[0mxx\u001b[0m\u001b[1;33m.\u001b[0m\u001b[0mshape\u001b[0m\u001b[1;33m)\u001b[0m\u001b[1;33m\u001b[0m\u001b[0m\n\u001b[0;32m      9\u001b[0m     \u001b[0mplt\u001b[0m\u001b[1;33m.\u001b[0m\u001b[0mcontourf\u001b[0m\u001b[1;33m(\u001b[0m\u001b[0mxx\u001b[0m\u001b[1;33m,\u001b[0m \u001b[0myy\u001b[0m\u001b[1;33m,\u001b[0m \u001b[0mZ\u001b[0m\u001b[1;33m,\u001b[0m \u001b[0mcmap\u001b[0m\u001b[1;33m=\u001b[0m\u001b[0mplt\u001b[0m\u001b[1;33m.\u001b[0m\u001b[0mcm\u001b[0m\u001b[1;33m.\u001b[0m\u001b[0mPaired\u001b[0m\u001b[1;33m,\u001b[0m \u001b[0malpha\u001b[0m\u001b[1;33m=\u001b[0m\u001b[1;36m0.8\u001b[0m\u001b[1;33m)\u001b[0m\u001b[1;33m\u001b[0m\u001b[0m\n",
      "\u001b[1;32m/vrvm/rvm.py\u001b[0m in \u001b[0;36mpredict\u001b[1;34m(self, x)\u001b[0m\n\u001b[0;32m    241\u001b[0m \u001b[1;33m\u001b[0m\u001b[0m\n\u001b[0;32m    242\u001b[0m     \u001b[1;32mdef\u001b[0m \u001b[0mpredict\u001b[0m\u001b[1;33m(\u001b[0m\u001b[0mself\u001b[0m\u001b[1;33m,\u001b[0m \u001b[0mx\u001b[0m\u001b[1;33m)\u001b[0m\u001b[1;33m:\u001b[0m\u001b[1;33m\u001b[0m\u001b[0m\n\u001b[1;32m--> 243\u001b[1;33m         \u001b[1;32mreturn\u001b[0m \u001b[1;36m2\u001b[0m \u001b[1;33m*\u001b[0m \u001b[1;33m(\u001b[0m\u001b[0mself\u001b[0m\u001b[1;33m.\u001b[0m\u001b[0mpredict_proba\u001b[0m\u001b[1;33m(\u001b[0m\u001b[0mx\u001b[0m\u001b[1;33m)\u001b[0m \u001b[1;33m>\u001b[0m \u001b[1;36m0.5\u001b[0m\u001b[1;33m)\u001b[0m \u001b[1;33m-\u001b[0m \u001b[1;36m1\u001b[0m\u001b[1;33m\u001b[0m\u001b[0m\n\u001b[0m\u001b[0;32m    244\u001b[0m \u001b[1;33m\u001b[0m\u001b[0m\n\u001b[0;32m    245\u001b[0m \u001b[1;33m\u001b[0m\u001b[0m\n",
      "\u001b[1;32m/vrvm/rvm.py\u001b[0m in \u001b[0;36mpredict_proba\u001b[1;34m(self, x)\u001b[0m\n\u001b[0;32m    233\u001b[0m         \u001b[1;32mif\u001b[0m \u001b[0mself\u001b[0m\u001b[1;33m.\u001b[0m\u001b[0mbias_used\u001b[0m\u001b[1;33m:\u001b[0m\u001b[1;33m\u001b[0m\u001b[0m\n\u001b[0;32m    234\u001b[0m             \u001b[1;32mif\u001b[0m \u001b[0mself\u001b[0m\u001b[1;33m.\u001b[0m\u001b[0mrelevance_\u001b[0m\u001b[1;33m[\u001b[0m\u001b[1;36m0\u001b[0m\u001b[1;33m]\u001b[0m \u001b[1;33m==\u001b[0m \u001b[1;36m0\u001b[0m\u001b[1;33m:\u001b[0m\u001b[1;33m\u001b[0m\u001b[0m\n\u001b[1;32m--> 235\u001b[1;33m                 \u001b[0mphi\u001b[0m \u001b[1;33m=\u001b[0m \u001b[0mself\u001b[0m\u001b[1;33m.\u001b[0m\u001b[0m_apply_kernel\u001b[0m\u001b[1;33m(\u001b[0m\u001b[0mself\u001b[0m\u001b[1;33m.\u001b[0m\u001b[0mX\u001b[0m\u001b[1;33m[\u001b[0m\u001b[0mself\u001b[0m\u001b[1;33m.\u001b[0m\u001b[0mrelevance_\u001b[0m\u001b[1;33m[\u001b[0m\u001b[1;36m1\u001b[0m\u001b[1;33m:\u001b[0m\u001b[1;33m]\u001b[0m \u001b[1;33m-\u001b[0m \u001b[1;36m1\u001b[0m\u001b[1;33m]\u001b[0m\u001b[1;33m,\u001b[0m \u001b[0mx\u001b[0m\u001b[1;33m)\u001b[0m\u001b[1;33m\u001b[0m\u001b[0m\n\u001b[0m\u001b[0;32m    236\u001b[0m             \u001b[1;32melse\u001b[0m\u001b[1;33m:\u001b[0m\u001b[1;33m\u001b[0m\u001b[0m\n\u001b[0;32m    237\u001b[0m                 \u001b[0mphi\u001b[0m \u001b[1;33m=\u001b[0m \u001b[0mself\u001b[0m\u001b[1;33m.\u001b[0m\u001b[0m_apply_kernel\u001b[0m\u001b[1;33m(\u001b[0m\u001b[0mself\u001b[0m\u001b[1;33m.\u001b[0m\u001b[0mX\u001b[0m\u001b[1;33m[\u001b[0m\u001b[0mself\u001b[0m\u001b[1;33m.\u001b[0m\u001b[0mrelevance_\u001b[0m \u001b[1;33m-\u001b[0m \u001b[1;36m1\u001b[0m\u001b[1;33m]\u001b[0m\u001b[1;33m,\u001b[0m \u001b[0mx\u001b[0m\u001b[1;33m)\u001b[0m\u001b[1;33m[\u001b[0m\u001b[1;33m:\u001b[0m\u001b[1;33m,\u001b[0m \u001b[1;36m1\u001b[0m\u001b[1;33m:\u001b[0m\u001b[1;33m]\u001b[0m\u001b[1;33m\u001b[0m\u001b[0m\n",
      "\u001b[1;32m/vrvm/rvm.py\u001b[0m in \u001b[0;36m_apply_kernel\u001b[1;34m(self, X, y)\u001b[0m\n\u001b[0;32m     68\u001b[0m             \u001b[0mphi\u001b[0m \u001b[1;33m=\u001b[0m \u001b[0mlinear_kernel\u001b[0m\u001b[1;33m(\u001b[0m\u001b[0mX\u001b[0m\u001b[1;33m,\u001b[0m \u001b[0my\u001b[0m\u001b[1;33m)\u001b[0m\u001b[1;33m\u001b[0m\u001b[0m\n\u001b[0;32m     69\u001b[0m         \u001b[1;32melif\u001b[0m \u001b[0mself\u001b[0m\u001b[1;33m.\u001b[0m\u001b[0mkernel\u001b[0m \u001b[1;33m==\u001b[0m \u001b[1;34m'rbf'\u001b[0m\u001b[1;33m:\u001b[0m\u001b[1;33m\u001b[0m\u001b[0m\n\u001b[1;32m---> 70\u001b[1;33m             \u001b[0mphi\u001b[0m \u001b[1;33m=\u001b[0m \u001b[0mrbf_kernel\u001b[0m\u001b[1;33m(\u001b[0m\u001b[0mX\u001b[0m\u001b[1;33m,\u001b[0m \u001b[0my\u001b[0m\u001b[1;33m,\u001b[0m \u001b[0mgamma\u001b[0m\u001b[1;33m=\u001b[0m\u001b[0mself\u001b[0m\u001b[1;33m.\u001b[0m\u001b[0mgamma\u001b[0m\u001b[1;33m)\u001b[0m\u001b[1;33m\u001b[0m\u001b[0m\n\u001b[0m\u001b[0;32m     71\u001b[0m         \u001b[1;32melif\u001b[0m \u001b[0mself\u001b[0m\u001b[1;33m.\u001b[0m\u001b[0mkernel\u001b[0m \u001b[1;33m==\u001b[0m \u001b[1;34m'poly'\u001b[0m\u001b[1;33m:\u001b[0m\u001b[1;33m\u001b[0m\u001b[0m\n\u001b[0;32m     72\u001b[0m             \u001b[0mphi\u001b[0m \u001b[1;33m=\u001b[0m \u001b[0mpolynomial_kernel\u001b[0m\u001b[1;33m(\u001b[0m\u001b[0mX\u001b[0m\u001b[1;33m,\u001b[0m \u001b[0my\u001b[0m\u001b[1;33m,\u001b[0m \u001b[0mdegree\u001b[0m\u001b[1;33m=\u001b[0m\u001b[0mself\u001b[0m\u001b[1;33m.\u001b[0m\u001b[0mdegree\u001b[0m\u001b[1;33m)\u001b[0m\u001b[1;33m\u001b[0m\u001b[0m\n",
      "\u001b[1;32m/home/vagrant/anaconda2/lib/python2.7/site-packages/sklearn/metrics/pairwise.pyc\u001b[0m in \u001b[0;36mrbf_kernel\u001b[1;34m(X, Y, gamma)\u001b[0m\n\u001b[0;32m    807\u001b[0m         \u001b[0mgamma\u001b[0m \u001b[1;33m=\u001b[0m \u001b[1;36m1.0\u001b[0m \u001b[1;33m/\u001b[0m \u001b[0mX\u001b[0m\u001b[1;33m.\u001b[0m\u001b[0mshape\u001b[0m\u001b[1;33m[\u001b[0m\u001b[1;36m1\u001b[0m\u001b[1;33m]\u001b[0m\u001b[1;33m\u001b[0m\u001b[0m\n\u001b[0;32m    808\u001b[0m \u001b[1;33m\u001b[0m\u001b[0m\n\u001b[1;32m--> 809\u001b[1;33m     \u001b[0mK\u001b[0m \u001b[1;33m=\u001b[0m \u001b[0meuclidean_distances\u001b[0m\u001b[1;33m(\u001b[0m\u001b[0mX\u001b[0m\u001b[1;33m,\u001b[0m \u001b[0mY\u001b[0m\u001b[1;33m,\u001b[0m \u001b[0msquared\u001b[0m\u001b[1;33m=\u001b[0m\u001b[0mTrue\u001b[0m\u001b[1;33m)\u001b[0m\u001b[1;33m\u001b[0m\u001b[0m\n\u001b[0m\u001b[0;32m    810\u001b[0m     \u001b[0mK\u001b[0m \u001b[1;33m*=\u001b[0m \u001b[1;33m-\u001b[0m\u001b[0mgamma\u001b[0m\u001b[1;33m\u001b[0m\u001b[0m\n\u001b[0;32m    811\u001b[0m     \u001b[0mnp\u001b[0m\u001b[1;33m.\u001b[0m\u001b[0mexp\u001b[0m\u001b[1;33m(\u001b[0m\u001b[0mK\u001b[0m\u001b[1;33m,\u001b[0m \u001b[0mK\u001b[0m\u001b[1;33m)\u001b[0m    \u001b[1;31m# exponentiate K in-place\u001b[0m\u001b[1;33m\u001b[0m\u001b[0m\n",
      "\u001b[1;32m/home/vagrant/anaconda2/lib/python2.7/site-packages/sklearn/metrics/pairwise.pyc\u001b[0m in \u001b[0;36meuclidean_distances\u001b[1;34m(X, Y, Y_norm_squared, squared, X_norm_squared)\u001b[0m\n\u001b[0;32m    229\u001b[0m         \u001b[0mYY\u001b[0m \u001b[1;33m=\u001b[0m \u001b[0mrow_norms\u001b[0m\u001b[1;33m(\u001b[0m\u001b[0mY\u001b[0m\u001b[1;33m,\u001b[0m \u001b[0msquared\u001b[0m\u001b[1;33m=\u001b[0m\u001b[0mTrue\u001b[0m\u001b[1;33m)\u001b[0m\u001b[1;33m[\u001b[0m\u001b[0mnp\u001b[0m\u001b[1;33m.\u001b[0m\u001b[0mnewaxis\u001b[0m\u001b[1;33m,\u001b[0m \u001b[1;33m:\u001b[0m\u001b[1;33m]\u001b[0m\u001b[1;33m\u001b[0m\u001b[0m\n\u001b[0;32m    230\u001b[0m \u001b[1;33m\u001b[0m\u001b[0m\n\u001b[1;32m--> 231\u001b[1;33m     \u001b[0mdistances\u001b[0m \u001b[1;33m=\u001b[0m \u001b[0msafe_sparse_dot\u001b[0m\u001b[1;33m(\u001b[0m\u001b[0mX\u001b[0m\u001b[1;33m,\u001b[0m \u001b[0mY\u001b[0m\u001b[1;33m.\u001b[0m\u001b[0mT\u001b[0m\u001b[1;33m,\u001b[0m \u001b[0mdense_output\u001b[0m\u001b[1;33m=\u001b[0m\u001b[0mTrue\u001b[0m\u001b[1;33m)\u001b[0m\u001b[1;33m\u001b[0m\u001b[0m\n\u001b[0m\u001b[0;32m    232\u001b[0m     \u001b[0mdistances\u001b[0m \u001b[1;33m*=\u001b[0m \u001b[1;33m-\u001b[0m\u001b[1;36m2\u001b[0m\u001b[1;33m\u001b[0m\u001b[0m\n\u001b[0;32m    233\u001b[0m     \u001b[0mdistances\u001b[0m \u001b[1;33m+=\u001b[0m \u001b[0mXX\u001b[0m\u001b[1;33m\u001b[0m\u001b[0m\n",
      "\u001b[1;32m/home/vagrant/anaconda2/lib/python2.7/site-packages/sklearn/utils/extmath.pyc\u001b[0m in \u001b[0;36msafe_sparse_dot\u001b[1;34m(a, b, dense_output)\u001b[0m\n\u001b[0;32m    182\u001b[0m         \u001b[1;32mreturn\u001b[0m \u001b[0mret\u001b[0m\u001b[1;33m\u001b[0m\u001b[0m\n\u001b[0;32m    183\u001b[0m     \u001b[1;32melse\u001b[0m\u001b[1;33m:\u001b[0m\u001b[1;33m\u001b[0m\u001b[0m\n\u001b[1;32m--> 184\u001b[1;33m         \u001b[1;32mreturn\u001b[0m \u001b[0mfast_dot\u001b[0m\u001b[1;33m(\u001b[0m\u001b[0ma\u001b[0m\u001b[1;33m,\u001b[0m \u001b[0mb\u001b[0m\u001b[1;33m)\u001b[0m\u001b[1;33m\u001b[0m\u001b[0m\n\u001b[0m\u001b[0;32m    185\u001b[0m \u001b[1;33m\u001b[0m\u001b[0m\n\u001b[0;32m    186\u001b[0m \u001b[1;33m\u001b[0m\u001b[0m\n",
      "\u001b[1;31mMemoryError\u001b[0m: "
     ]
    },
    {
     "data": {
      "text/plain": [
       "<matplotlib.figure.Figure at 0x7fbcfc829fd0>"
      ]
     },
     "metadata": {},
     "output_type": "display_data"
    }
   ],
   "source": [
    "visualize(X, y)"
   ]
  },
  {
   "cell_type": "code",
   "execution_count": null,
   "metadata": {
    "collapsed": true
   },
   "outputs": [],
   "source": []
  }
 ],
 "metadata": {
  "kernelspec": {
   "display_name": "Python 2",
   "language": "python",
   "name": "python2"
  },
  "language_info": {
   "codemirror_mode": {
    "name": "ipython",
    "version": 2
   },
   "file_extension": ".py",
   "mimetype": "text/x-python",
   "name": "python",
   "nbconvert_exporter": "python",
   "pygments_lexer": "ipython2",
   "version": "2.7.11"
  }
 },
 "nbformat": 4,
 "nbformat_minor": 0
}
